{
 "cells": [
  {
   "cell_type": "code",
   "execution_count": 5,
   "metadata": {},
   "outputs": [
    {
     "name": "stdout",
     "output_type": "stream",
     "text": [
      "Features sorted by their score:\n",
      "[(0.44269999999999998, 'LSTAT'), (0.38129999999999997, 'RM'), (0.061499999999999999, 'DIS'), (0.033300000000000003, 'CRIM'), (0.021000000000000001, 'PTRATIO'), (0.0201, 'NOX'), (0.0135, 'AGE'), (0.0091999999999999998, 'TAX'), (0.0091999999999999998, 'B'), (0.0041000000000000003, 'INDUS'), (0.0028, 'RAD'), (0.001, 'ZN'), (0.00029999999999999997, 'CHAS')]\n"
     ]
    }
   ],
   "source": [
    "from sklearn.datasets import load_boston\n",
    "from sklearn.ensemble import RandomForestRegressor\n",
    "import numpy as np\n",
    "\n",
    "#Load boston housing dataset as an example\n",
    "boston = load_boston()\n",
    "\n",
    "X = boston[\"data\"]\n",
    "Y = boston[\"target\"]\n",
    "\n",
    "names = boston[\"feature_names\"]\n",
    "\n",
    "rf = RandomForestRegressor()\n",
    "rf.fit(X, Y)\n",
    "\n",
    "print(\"Features sorted by their score:\")\n",
    "\n",
    "print(sorted(zip(map(lambda x: round(x, 4), rf.feature_importances_), names), reverse=True))"
   ]
  },
  {
   "cell_type": "code",
   "execution_count": null,
   "metadata": {},
   "outputs": [],
   "source": []
  },
  {
   "cell_type": "code",
   "execution_count": 10,
   "metadata": {},
   "outputs": [
    {
     "name": "stdout",
     "output_type": "stream",
     "text": [
      "Scores for X0, X1, X2: <map object at 0x1065ffac8>\n"
     ]
    }
   ],
   "source": [
    "size = 10000\n",
    "\n",
    "np.random.seed(seed=10)\n",
    "\n",
    "X_seed = np.random.normal(0, 1, size)\n",
    "\n",
    "X0 = X_seed + np.random.normal(0, .1, size)\n",
    "X1 = X_seed + np.random.normal(0, .1, size)\n",
    "X2 = X_seed + np.random.normal(0, .1, size)\n",
    "\n",
    "X = np.array([X0, X1, X2]).T\n",
    "Y = X0 + X1 + X2\n",
    "  \n",
    "rf1 = RandomForestRegressor(n_estimators=20, max_features=2)\n",
    "rf1.fit(X, Y);\n",
    "\n",
    "print (\"Scores for X0, X1, X2:\", map(lambda x:round (x,3), rf1.feature_importances_))"
   ]
  },
  {
   "cell_type": "code",
   "execution_count": null,
   "metadata": {},
   "outputs": [],
   "source": []
  },
  {
   "cell_type": "code",
   "execution_count": 12,
   "metadata": {},
   "outputs": [
    {
     "name": "stdout",
     "output_type": "stream",
     "text": [
      "Features sorted by their score:\n",
      "[(0.73509999999999998, 'LSTAT'), (0.5645, 'RM'), (0.080000000000000002, 'DIS'), (0.040599999999999997, 'CRIM'), (0.040500000000000001, 'NOX'), (0.022800000000000001, 'PTRATIO'), (0.016899999999999998, 'TAX'), (0.0112, 'AGE'), (0.0047999999999999996, 'INDUS'), (0.0047000000000000002, 'B'), (0.0032000000000000002, 'RAD'), (0.00080000000000000004, 'CHAS'), (0.0, 'ZN')]\n"
     ]
    }
   ],
   "source": [
    "from sklearn.cross_validation import ShuffleSplit\n",
    "from sklearn.metrics import r2_score\n",
    "from collections import defaultdict\n",
    " \n",
    "X = boston[\"data\"]\n",
    "Y = boston[\"target\"]\n",
    " \n",
    "rf = RandomForestRegressor()\n",
    "scores = defaultdict(list)\n",
    " \n",
    "#crossvalidate the scores on a number of different random splits of the data\n",
    "for train_idx, test_idx in ShuffleSplit(len(X), 100, .3):\n",
    "    X_train, X_test = X[train_idx], X[test_idx]\n",
    "    Y_train, Y_test = Y[train_idx], Y[test_idx]\n",
    "    r = rf.fit(X_train, Y_train)\n",
    "    acc = r2_score(Y_test, rf.predict(X_test))\n",
    "    for i in range(X.shape[1]):\n",
    "        X_t = X_test.copy()\n",
    "        np.random.shuffle(X_t[:, i])\n",
    "        shuff_acc = r2_score(Y_test, rf.predict(X_t))\n",
    "        scores[names[i]].append((acc-shuff_acc)/acc)\n",
    "print (\"Features sorted by their score:\")\n",
    "print (sorted([(round(np.mean(score), 4), feat) for\n",
    "              feat, score in scores.items()], reverse=True))\n"
   ]
  },
  {
   "cell_type": "code",
   "execution_count": null,
   "metadata": {},
   "outputs": [],
   "source": []
  }
 ],
 "metadata": {
  "kernelspec": {
   "display_name": "Python 3",
   "language": "python",
   "name": "python3"
  },
  "language_info": {
   "codemirror_mode": {
    "name": "ipython",
    "version": 3
   },
   "file_extension": ".py",
   "mimetype": "text/x-python",
   "name": "python",
   "nbconvert_exporter": "python",
   "pygments_lexer": "ipython3",
   "version": "3.6.3"
  }
 },
 "nbformat": 4,
 "nbformat_minor": 2
}
